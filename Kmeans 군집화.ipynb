{
 "cells": [
  {
   "cell_type": "markdown",
   "id": "27fa500b",
   "metadata": {},
   "source": [
    "## K_MEANS 클러스터링"
   ]
  },
  {
   "cell_type": "code",
   "execution_count": 1,
   "id": "20cb2a4f",
   "metadata": {},
   "outputs": [],
   "source": [
    "# 필요한 모듈\n",
    "import numpy as np\n",
    "import pandas as pd\n",
    "import matplotlib.pyplot as plt\n",
    "from sklearn.cluster import KMeans\n",
    "from sklearn.datasets import make_blobs\n",
    "from sklearn.decomposition import PCA\n",
    "import sklearn\n",
    "%matplotlib inline"
   ]
  },
  {
   "cell_type": "code",
   "execution_count": 2,
   "id": "838196e3",
   "metadata": {},
   "outputs": [
    {
     "data": {
      "text/html": [
       "<div>\n",
       "<style scoped>\n",
       "    .dataframe tbody tr th:only-of-type {\n",
       "        vertical-align: middle;\n",
       "    }\n",
       "\n",
       "    .dataframe tbody tr th {\n",
       "        vertical-align: top;\n",
       "    }\n",
       "\n",
       "    .dataframe thead th {\n",
       "        text-align: right;\n",
       "    }\n",
       "</style>\n",
       "<table border=\"1\" class=\"dataframe\">\n",
       "  <thead>\n",
       "    <tr style=\"text-align: right;\">\n",
       "      <th></th>\n",
       "      <th>x_coord</th>\n",
       "      <th>y_coord</th>\n",
       "    </tr>\n",
       "  </thead>\n",
       "  <tbody>\n",
       "    <tr>\n",
       "      <th>0</th>\n",
       "      <td>127.064613</td>\n",
       "      <td>37.566111</td>\n",
       "    </tr>\n",
       "    <tr>\n",
       "      <th>1</th>\n",
       "      <td>127.032841</td>\n",
       "      <td>37.576806</td>\n",
       "    </tr>\n",
       "    <tr>\n",
       "      <th>2</th>\n",
       "      <td>127.054277</td>\n",
       "      <td>37.590409</td>\n",
       "    </tr>\n",
       "    <tr>\n",
       "      <th>3</th>\n",
       "      <td>127.047514</td>\n",
       "      <td>37.584975</td>\n",
       "    </tr>\n",
       "    <tr>\n",
       "      <th>4</th>\n",
       "      <td>127.056516</td>\n",
       "      <td>37.594924</td>\n",
       "    </tr>\n",
       "    <tr>\n",
       "      <th>...</th>\n",
       "      <td>...</td>\n",
       "      <td>...</td>\n",
       "    </tr>\n",
       "    <tr>\n",
       "      <th>168</th>\n",
       "      <td>127.060079</td>\n",
       "      <td>37.566996</td>\n",
       "    </tr>\n",
       "    <tr>\n",
       "      <th>169</th>\n",
       "      <td>127.065615</td>\n",
       "      <td>37.588649</td>\n",
       "    </tr>\n",
       "    <tr>\n",
       "      <th>170</th>\n",
       "      <td>127.069075</td>\n",
       "      <td>37.577845</td>\n",
       "    </tr>\n",
       "    <tr>\n",
       "      <th>171</th>\n",
       "      <td>127.046458</td>\n",
       "      <td>37.572352</td>\n",
       "    </tr>\n",
       "    <tr>\n",
       "      <th>172</th>\n",
       "      <td>127.054347</td>\n",
       "      <td>37.578692</td>\n",
       "    </tr>\n",
       "  </tbody>\n",
       "</table>\n",
       "<p>173 rows × 2 columns</p>\n",
       "</div>"
      ],
      "text/plain": [
       "        x_coord    y_coord\n",
       "0    127.064613  37.566111\n",
       "1    127.032841  37.576806\n",
       "2    127.054277  37.590409\n",
       "3    127.047514  37.584975\n",
       "4    127.056516  37.594924\n",
       "..          ...        ...\n",
       "168  127.060079  37.566996\n",
       "169  127.065615  37.588649\n",
       "170  127.069075  37.577845\n",
       "171  127.046458  37.572352\n",
       "172  127.054347  37.578692\n",
       "\n",
       "[173 rows x 2 columns]"
      ]
     },
     "execution_count": 2,
     "metadata": {},
     "output_type": "execute_result"
    }
   ],
   "source": [
    "# 데이터셋\n",
    "df = pd.read_excel('C:\\\\Users\\\\osh27\\\\Desktop\\\\동대문구.xlsx')\n",
    "df1 = df.iloc[:, [14,15]]\n",
    "df1"
   ]
  },
  {
   "cell_type": "markdown",
   "id": "93521b4f",
   "metadata": {},
   "source": [
    "## Standard Scaler"
   ]
  },
  {
   "cell_type": "code",
   "execution_count": 60,
   "id": "264dc116",
   "metadata": {},
   "outputs": [
    {
     "data": {
      "text/html": [
       "<div>\n",
       "<style scoped>\n",
       "    .dataframe tbody tr th:only-of-type {\n",
       "        vertical-align: middle;\n",
       "    }\n",
       "\n",
       "    .dataframe tbody tr th {\n",
       "        vertical-align: top;\n",
       "    }\n",
       "\n",
       "    .dataframe thead th {\n",
       "        text-align: right;\n",
       "    }\n",
       "</style>\n",
       "<table border=\"1\" class=\"dataframe\">\n",
       "  <thead>\n",
       "    <tr style=\"text-align: right;\">\n",
       "      <th></th>\n",
       "      <th>x_coord</th>\n",
       "      <th>y_coord</th>\n",
       "    </tr>\n",
       "  </thead>\n",
       "  <tbody>\n",
       "    <tr>\n",
       "      <th>0</th>\n",
       "      <td>127.064613</td>\n",
       "      <td>37.566111</td>\n",
       "    </tr>\n",
       "    <tr>\n",
       "      <th>1</th>\n",
       "      <td>127.032841</td>\n",
       "      <td>37.576806</td>\n",
       "    </tr>\n",
       "    <tr>\n",
       "      <th>2</th>\n",
       "      <td>127.054277</td>\n",
       "      <td>37.590409</td>\n",
       "    </tr>\n",
       "    <tr>\n",
       "      <th>3</th>\n",
       "      <td>127.047514</td>\n",
       "      <td>37.584975</td>\n",
       "    </tr>\n",
       "    <tr>\n",
       "      <th>4</th>\n",
       "      <td>127.056516</td>\n",
       "      <td>37.594924</td>\n",
       "    </tr>\n",
       "    <tr>\n",
       "      <th>...</th>\n",
       "      <td>...</td>\n",
       "      <td>...</td>\n",
       "    </tr>\n",
       "    <tr>\n",
       "      <th>168</th>\n",
       "      <td>127.060079</td>\n",
       "      <td>37.566996</td>\n",
       "    </tr>\n",
       "    <tr>\n",
       "      <th>169</th>\n",
       "      <td>127.065615</td>\n",
       "      <td>37.588649</td>\n",
       "    </tr>\n",
       "    <tr>\n",
       "      <th>170</th>\n",
       "      <td>127.069075</td>\n",
       "      <td>37.577845</td>\n",
       "    </tr>\n",
       "    <tr>\n",
       "      <th>171</th>\n",
       "      <td>127.046458</td>\n",
       "      <td>37.572352</td>\n",
       "    </tr>\n",
       "    <tr>\n",
       "      <th>172</th>\n",
       "      <td>127.054347</td>\n",
       "      <td>37.578692</td>\n",
       "    </tr>\n",
       "  </tbody>\n",
       "</table>\n",
       "<p>173 rows × 2 columns</p>\n",
       "</div>"
      ],
      "text/plain": [
       "        x_coord    y_coord\n",
       "0    127.064613  37.566111\n",
       "1    127.032841  37.576806\n",
       "2    127.054277  37.590409\n",
       "3    127.047514  37.584975\n",
       "4    127.056516  37.594924\n",
       "..          ...        ...\n",
       "168  127.060079  37.566996\n",
       "169  127.065615  37.588649\n",
       "170  127.069075  37.577845\n",
       "171  127.046458  37.572352\n",
       "172  127.054347  37.578692\n",
       "\n",
       "[173 rows x 2 columns]"
      ]
     },
     "execution_count": 60,
     "metadata": {},
     "output_type": "execute_result"
    }
   ],
   "source": [
    "df = pd.read_excel('C:\\\\Users\\\\osh27\\\\Desktop\\\\동대문구.xlsx')\n",
    "df1 = df.iloc[:, [14,15]]\n",
    "df1"
   ]
  },
  {
   "cell_type": "code",
   "execution_count": 61,
   "id": "4e4f0e03",
   "metadata": {},
   "outputs": [],
   "source": [
    "from sklearn.preprocessing import StandardScaler\n",
    "scaler = StandardScaler()   \n",
    "scaled = scaler.fit_transform(df1)"
   ]
  },
  {
   "cell_type": "code",
   "execution_count": 62,
   "id": "c07e9dcb",
   "metadata": {},
   "outputs": [
    {
     "data": {
      "text/html": [
       "<div>\n",
       "<style scoped>\n",
       "    .dataframe tbody tr th:only-of-type {\n",
       "        vertical-align: middle;\n",
       "    }\n",
       "\n",
       "    .dataframe tbody tr th {\n",
       "        vertical-align: top;\n",
       "    }\n",
       "\n",
       "    .dataframe thead th {\n",
       "        text-align: right;\n",
       "    }\n",
       "</style>\n",
       "<table border=\"1\" class=\"dataframe\">\n",
       "  <thead>\n",
       "    <tr style=\"text-align: right;\">\n",
       "      <th></th>\n",
       "      <th>x_coord</th>\n",
       "      <th>y_coord</th>\n",
       "    </tr>\n",
       "  </thead>\n",
       "  <tbody>\n",
       "    <tr>\n",
       "      <th>0</th>\n",
       "      <td>0.970718</td>\n",
       "      <td>-1.485675</td>\n",
       "    </tr>\n",
       "    <tr>\n",
       "      <th>1</th>\n",
       "      <td>-1.619021</td>\n",
       "      <td>-0.326941</td>\n",
       "    </tr>\n",
       "    <tr>\n",
       "      <th>2</th>\n",
       "      <td>0.128248</td>\n",
       "      <td>1.146903</td>\n",
       "    </tr>\n",
       "    <tr>\n",
       "      <th>3</th>\n",
       "      <td>-0.423029</td>\n",
       "      <td>0.558170</td>\n",
       "    </tr>\n",
       "    <tr>\n",
       "      <th>4</th>\n",
       "      <td>0.310716</td>\n",
       "      <td>1.636103</td>\n",
       "    </tr>\n",
       "  </tbody>\n",
       "</table>\n",
       "</div>"
      ],
      "text/plain": [
       "    x_coord   y_coord\n",
       "0  0.970718 -1.485675\n",
       "1 -1.619021 -0.326941\n",
       "2  0.128248  1.146903\n",
       "3 -0.423029  0.558170\n",
       "4  0.310716  1.636103"
      ]
     },
     "execution_count": 62,
     "metadata": {},
     "output_type": "execute_result"
    }
   ],
   "source": [
    "df = pd.DataFrame(scaled)\n",
    "df.columns=df1.columns\n",
    "df.head()"
   ]
  },
  {
   "cell_type": "code",
   "execution_count": 63,
   "id": "688259eb",
   "metadata": {},
   "outputs": [
    {
     "name": "stderr",
     "output_type": "stream",
     "text": [
      "C:\\Users\\osh27\\anaconda3\\lib\\site-packages\\sklearn\\cluster\\_kmeans.py:1036: UserWarning: KMeans is known to have a memory leak on Windows with MKL, when there are less chunks than available threads. You can avoid it by setting the environment variable OMP_NUM_THREADS=1.\n",
      "  warnings.warn(\n"
     ]
    },
    {
     "data": {
      "image/png": "[encoded data removed]",
      "text/plain": [
       "<Figure size 720x720 with 1 Axes>"
      ]
     },
     "metadata": {
      "needs_background": "light"
     },
     "output_type": "display_data"
    }
   ],
   "source": [
    "wcss = []\n",
    "for i in range(1,11):\n",
    "    model = KMeans(n_clusters = i, init = \"k-means++\")\n",
    "    model.fit(df)\n",
    "    wcss.append(model.inertia_)\n",
    "plt.figure(figsize=(10,10))\n",
    "plt.plot(range(1,11), wcss, marker='o')\n",
    "plt.xlabel('Number of clusters')\n",
    "plt.ylabel('WCSS')\n",
    "plt.show()"
   ]
  },
  {
   "cell_type": "code",
   "execution_count": 64,
   "id": "54b4edd6",
   "metadata": {},
   "outputs": [],
   "source": [
    "#차원축소\n",
    "pca = PCA(2)\n",
    "data = pca.fit_transform(df)"
   ]
  },
  {
   "cell_type": "code",
   "execution_count": 65,
   "id": "750bf21f",
   "metadata": {},
   "outputs": [
    {
     "data": {
      "image/png": "[encoded data removed]",
      "text/plain": [
       "<Figure size 504x504 with 1 Axes>"
      ]
     },
     "metadata": {
      "needs_background": "light"
     },
     "output_type": "display_data"
    }
   ],
   "source": [
    "centers = np.array(model.cluster_centers_)\n",
    "model = KMeans(n_clusters =3 , init = \"k-means++\")\n",
    "label = model.fit_predict(data)\n",
    "plt.figure(figsize=(7,7))\n",
    "uniq = np.unique(label)\n",
    "for i in uniq:\n",
    "    plt.scatter(data[label == i , 0] , data[label == i , 1] , label = i)\n",
    "plt.scatter(centers[:,0], centers[:,1], marker=\"x\", color='k')\n",
    "#This is done to find the centroid for each clusters.\n",
    "plt.legend()\n",
    "plt.show()"
   ]
  },
  {
   "cell_type": "code",
   "execution_count": 66,
   "id": "0ab43a89",
   "metadata": {},
   "outputs": [
    {
     "data": {
      "text/plain": [
       "88.67799706001539"
      ]
     },
     "execution_count": 66,
     "metadata": {},
     "output_type": "execute_result"
    }
   ],
   "source": [
    "model.inertia_"
   ]
  },
  {
   "cell_type": "markdown",
   "id": "8b86c42a",
   "metadata": {},
   "source": [
    "## RobustScaler"
   ]
  },
  {
   "cell_type": "code",
   "execution_count": 67,
   "id": "28fd2f1d",
   "metadata": {},
   "outputs": [
    {
     "data": {
      "text/html": [
       "<div>\n",
       "<style scoped>\n",
       "    .dataframe tbody tr th:only-of-type {\n",
       "        vertical-align: middle;\n",
       "    }\n",
       "\n",
       "    .dataframe tbody tr th {\n",
       "        vertical-align: top;\n",
       "    }\n",
       "\n",
       "    .dataframe thead th {\n",
       "        text-align: right;\n",
       "    }\n",
       "</style>\n",
       "<table border=\"1\" class=\"dataframe\">\n",
       "  <thead>\n",
       "    <tr style=\"text-align: right;\">\n",
       "      <th></th>\n",
       "      <th>x_coord</th>\n",
       "      <th>y_coord</th>\n",
       "    </tr>\n",
       "  </thead>\n",
       "  <tbody>\n",
       "    <tr>\n",
       "      <th>0</th>\n",
       "      <td>127.064613</td>\n",
       "      <td>37.566111</td>\n",
       "    </tr>\n",
       "    <tr>\n",
       "      <th>1</th>\n",
       "      <td>127.032841</td>\n",
       "      <td>37.576806</td>\n",
       "    </tr>\n",
       "    <tr>\n",
       "      <th>2</th>\n",
       "      <td>127.054277</td>\n",
       "      <td>37.590409</td>\n",
       "    </tr>\n",
       "    <tr>\n",
       "      <th>3</th>\n",
       "      <td>127.047514</td>\n",
       "      <td>37.584975</td>\n",
       "    </tr>\n",
       "    <tr>\n",
       "      <th>4</th>\n",
       "      <td>127.056516</td>\n",
       "      <td>37.594924</td>\n",
       "    </tr>\n",
       "    <tr>\n",
       "      <th>...</th>\n",
       "      <td>...</td>\n",
       "      <td>...</td>\n",
       "    </tr>\n",
       "    <tr>\n",
       "      <th>168</th>\n",
       "      <td>127.060079</td>\n",
       "      <td>37.566996</td>\n",
       "    </tr>\n",
       "    <tr>\n",
       "      <th>169</th>\n",
       "      <td>127.065615</td>\n",
       "      <td>37.588649</td>\n",
       "    </tr>\n",
       "    <tr>\n",
       "      <th>170</th>\n",
       "      <td>127.069075</td>\n",
       "      <td>37.577845</td>\n",
       "    </tr>\n",
       "    <tr>\n",
       "      <th>171</th>\n",
       "      <td>127.046458</td>\n",
       "      <td>37.572352</td>\n",
       "    </tr>\n",
       "    <tr>\n",
       "      <th>172</th>\n",
       "      <td>127.054347</td>\n",
       "      <td>37.578692</td>\n",
       "    </tr>\n",
       "  </tbody>\n",
       "</table>\n",
       "<p>173 rows × 2 columns</p>\n",
       "</div>"
      ],
      "text/plain": [
       "        x_coord    y_coord\n",
       "0    127.064613  37.566111\n",
       "1    127.032841  37.576806\n",
       "2    127.054277  37.590409\n",
       "3    127.047514  37.584975\n",
       "4    127.056516  37.594924\n",
       "..          ...        ...\n",
       "168  127.060079  37.566996\n",
       "169  127.065615  37.588649\n",
       "170  127.069075  37.577845\n",
       "171  127.046458  37.572352\n",
       "172  127.054347  37.578692\n",
       "\n",
       "[173 rows x 2 columns]"
      ]
     },
     "execution_count": 67,
     "metadata": {},
     "output_type": "execute_result"
    }
   ],
   "source": [
    "df = pd.read_excel('C:\\\\Users\\\\osh27\\\\Desktop\\\\동대문구.xlsx')\n",
    "df1 = df.iloc[:, [14,15]]\n",
    "df1"
   ]
  },
  {
   "cell_type": "code",
   "execution_count": 68,
   "id": "7f7ffb5e",
   "metadata": {},
   "outputs": [],
   "source": [
    "from sklearn.preprocessing import RobustScaler\n",
    "scaler = RobustScaler()\n",
    "scaled = scaler.fit_transform(df1)"
   ]
  },
  {
   "cell_type": "code",
   "execution_count": 69,
   "id": "d88df691",
   "metadata": {},
   "outputs": [
    {
     "data": {
      "text/html": [
       "<div>\n",
       "<style scoped>\n",
       "    .dataframe tbody tr th:only-of-type {\n",
       "        vertical-align: middle;\n",
       "    }\n",
       "\n",
       "    .dataframe tbody tr th {\n",
       "        vertical-align: top;\n",
       "    }\n",
       "\n",
       "    .dataframe thead th {\n",
       "        text-align: right;\n",
       "    }\n",
       "</style>\n",
       "<table border=\"1\" class=\"dataframe\">\n",
       "  <thead>\n",
       "    <tr style=\"text-align: right;\">\n",
       "      <th></th>\n",
       "      <th>x_coord</th>\n",
       "      <th>y_coord</th>\n",
       "    </tr>\n",
       "  </thead>\n",
       "  <tbody>\n",
       "    <tr>\n",
       "      <th>0</th>\n",
       "      <td>0.641052</td>\n",
       "      <td>-0.759737</td>\n",
       "    </tr>\n",
       "    <tr>\n",
       "      <th>1</th>\n",
       "      <td>-1.345018</td>\n",
       "      <td>-0.067284</td>\n",
       "    </tr>\n",
       "    <tr>\n",
       "      <th>2</th>\n",
       "      <td>-0.005038</td>\n",
       "      <td>0.813477</td>\n",
       "    </tr>\n",
       "    <tr>\n",
       "      <th>3</th>\n",
       "      <td>-0.427812</td>\n",
       "      <td>0.461654</td>\n",
       "    </tr>\n",
       "    <tr>\n",
       "      <th>4</th>\n",
       "      <td>0.134897</td>\n",
       "      <td>1.105821</td>\n",
       "    </tr>\n",
       "  </tbody>\n",
       "</table>\n",
       "</div>"
      ],
      "text/plain": [
       "    x_coord   y_coord\n",
       "0  0.641052 -0.759737\n",
       "1 -1.345018 -0.067284\n",
       "2 -0.005038  0.813477\n",
       "3 -0.427812  0.461654\n",
       "4  0.134897  1.105821"
      ]
     },
     "execution_count": 69,
     "metadata": {},
     "output_type": "execute_result"
    }
   ],
   "source": [
    "df = pd.DataFrame(scaled)\n",
    "df.columns=df1.columns\n",
    "df.head()"
   ]
  },
  {
   "cell_type": "code",
   "execution_count": 70,
   "id": "fa135c45",
   "metadata": {},
   "outputs": [
    {
     "name": "stderr",
     "output_type": "stream",
     "text": [
      "C:\\Users\\osh27\\anaconda3\\lib\\site-packages\\sklearn\\cluster\\_kmeans.py:1036: UserWarning: KMeans is known to have a memory leak on Windows with MKL, when there are less chunks than available threads. You can avoid it by setting the environment variable OMP_NUM_THREADS=1.\n",
      "  warnings.warn(\n"
     ]
    },
    {
     "data": {
      "image/png": "[encoded data removed]",
      "text/plain": [
       "<Figure size 720x720 with 1 Axes>"
      ]
     },
     "metadata": {
      "needs_background": "light"
     },
     "output_type": "display_data"
    }
   ],
   "source": [
    "wcss = []\n",
    "for i in range(1,11):\n",
    "    model = KMeans(n_clusters = i, init = \"k-means++\")\n",
    "    model.fit(df)\n",
    "    wcss.append(model.inertia_)\n",
    "plt.figure(figsize=(10,10))\n",
    "plt.plot(range(1,11), wcss, marker='o')\n",
    "plt.xlabel('Number of clusters')\n",
    "plt.ylabel('WCSS')\n",
    "plt.show()"
   ]
  },
  {
   "cell_type": "code",
   "execution_count": 71,
   "id": "86d57ca6",
   "metadata": {},
   "outputs": [],
   "source": [
    "#차원축소\n",
    "pca = PCA(2)\n",
    "data = pca.fit_transform(df)"
   ]
  },
  {
   "cell_type": "code",
   "execution_count": 72,
   "id": "61391fc0",
   "metadata": {},
   "outputs": [
    {
     "data": {
      "image/png": "[encoded data removed]",
      "text/plain": [
       "<Figure size 504x504 with 1 Axes>"
      ]
     },
     "metadata": {
      "needs_background": "light"
     },
     "output_type": "display_data"
    }
   ],
   "source": [
    "centers = np.array(model.cluster_centers_)\n",
    "model = KMeans(n_clusters = 5, init = \"k-means++\")\n",
    "label = model.fit_predict(data)\n",
    "plt.figure(figsize=(7,7))\n",
    "uniq = np.unique(label)\n",
    "for i in uniq:\n",
    "    plt.scatter(data[label == i , 0] , data[label == i , 1] , label = i)\n",
    "plt.scatter(centers[:,0], centers[:,1], marker=\"x\", color='k')\n",
    "#This is done to find the centroid for each clusters.\n",
    "plt.legend()\n",
    "plt.show()"
   ]
  },
  {
   "cell_type": "code",
   "execution_count": 73,
   "id": "396b9785",
   "metadata": {},
   "outputs": [
    {
     "data": {
      "text/plain": [
       "22.85422170511013"
      ]
     },
     "execution_count": 73,
     "metadata": {},
     "output_type": "execute_result"
    }
   ],
   "source": [
    "model.inertia_"
   ]
  },
  {
   "cell_type": "markdown",
   "id": "dcab5476",
   "metadata": {},
   "source": [
    "## MaxAbsScaler"
   ]
  },
  {
   "cell_type": "code",
   "execution_count": 74,
   "id": "556eb810",
   "metadata": {},
   "outputs": [
    {
     "data": {
      "text/html": [
       "<div>\n",
       "<style scoped>\n",
       "    .dataframe tbody tr th:only-of-type {\n",
       "        vertical-align: middle;\n",
       "    }\n",
       "\n",
       "    .dataframe tbody tr th {\n",
       "        vertical-align: top;\n",
       "    }\n",
       "\n",
       "    .dataframe thead th {\n",
       "        text-align: right;\n",
       "    }\n",
       "</style>\n",
       "<table border=\"1\" class=\"dataframe\">\n",
       "  <thead>\n",
       "    <tr style=\"text-align: right;\">\n",
       "      <th></th>\n",
       "      <th>x_coord</th>\n",
       "      <th>y_coord</th>\n",
       "    </tr>\n",
       "  </thead>\n",
       "  <tbody>\n",
       "    <tr>\n",
       "      <th>0</th>\n",
       "      <td>127.064613</td>\n",
       "      <td>37.566111</td>\n",
       "    </tr>\n",
       "    <tr>\n",
       "      <th>1</th>\n",
       "      <td>127.032841</td>\n",
       "      <td>37.576806</td>\n",
       "    </tr>\n",
       "    <tr>\n",
       "      <th>2</th>\n",
       "      <td>127.054277</td>\n",
       "      <td>37.590409</td>\n",
       "    </tr>\n",
       "    <tr>\n",
       "      <th>3</th>\n",
       "      <td>127.047514</td>\n",
       "      <td>37.584975</td>\n",
       "    </tr>\n",
       "    <tr>\n",
       "      <th>4</th>\n",
       "      <td>127.056516</td>\n",
       "      <td>37.594924</td>\n",
       "    </tr>\n",
       "    <tr>\n",
       "      <th>...</th>\n",
       "      <td>...</td>\n",
       "      <td>...</td>\n",
       "    </tr>\n",
       "    <tr>\n",
       "      <th>168</th>\n",
       "      <td>127.060079</td>\n",
       "      <td>37.566996</td>\n",
       "    </tr>\n",
       "    <tr>\n",
       "      <th>169</th>\n",
       "      <td>127.065615</td>\n",
       "      <td>37.588649</td>\n",
       "    </tr>\n",
       "    <tr>\n",
       "      <th>170</th>\n",
       "      <td>127.069075</td>\n",
       "      <td>37.577845</td>\n",
       "    </tr>\n",
       "    <tr>\n",
       "      <th>171</th>\n",
       "      <td>127.046458</td>\n",
       "      <td>37.572352</td>\n",
       "    </tr>\n",
       "    <tr>\n",
       "      <th>172</th>\n",
       "      <td>127.054347</td>\n",
       "      <td>37.578692</td>\n",
       "    </tr>\n",
       "  </tbody>\n",
       "</table>\n",
       "<p>173 rows × 2 columns</p>\n",
       "</div>"
      ],
      "text/plain": [
       "        x_coord    y_coord\n",
       "0    127.064613  37.566111\n",
       "1    127.032841  37.576806\n",
       "2    127.054277  37.590409\n",
       "3    127.047514  37.584975\n",
       "4    127.056516  37.594924\n",
       "..          ...        ...\n",
       "168  127.060079  37.566996\n",
       "169  127.065615  37.588649\n",
       "170  127.069075  37.577845\n",
       "171  127.046458  37.572352\n",
       "172  127.054347  37.578692\n",
       "\n",
       "[173 rows x 2 columns]"
      ]
     },
     "execution_count": 74,
     "metadata": {},
     "output_type": "execute_result"
    }
   ],
   "source": [
    "df = pd.read_excel('C:\\\\Users\\\\osh27\\\\Desktop\\\\동대문구.xlsx')\n",
    "df1 = df.iloc[:, [14,15]]\n",
    "df1"
   ]
  },
  {
   "cell_type": "code",
   "execution_count": 75,
   "id": "34f01ce7",
   "metadata": {},
   "outputs": [],
   "source": [
    "from sklearn.preprocessing import MaxAbsScaler\n",
    "scaler = MaxAbsScaler()\n",
    "scaled = scaler.fit_transform(df1)"
   ]
  },
  {
   "cell_type": "code",
   "execution_count": 76,
   "id": "1b3b260b",
   "metadata": {},
   "outputs": [
    {
     "data": {
      "text/html": [
       "<div>\n",
       "<style scoped>\n",
       "    .dataframe tbody tr th:only-of-type {\n",
       "        vertical-align: middle;\n",
       "    }\n",
       "\n",
       "    .dataframe tbody tr th {\n",
       "        vertical-align: top;\n",
       "    }\n",
       "\n",
       "    .dataframe thead th {\n",
       "        text-align: right;\n",
       "    }\n",
       "</style>\n",
       "<table border=\"1\" class=\"dataframe\">\n",
       "  <thead>\n",
       "    <tr style=\"text-align: right;\">\n",
       "      <th></th>\n",
       "      <th>x_coord</th>\n",
       "      <th>y_coord</th>\n",
       "    </tr>\n",
       "  </thead>\n",
       "  <tbody>\n",
       "    <tr>\n",
       "      <th>0</th>\n",
       "      <td>0.999911</td>\n",
       "      <td>0.998993</td>\n",
       "    </tr>\n",
       "    <tr>\n",
       "      <th>1</th>\n",
       "      <td>0.999661</td>\n",
       "      <td>0.999278</td>\n",
       "    </tr>\n",
       "    <tr>\n",
       "      <th>2</th>\n",
       "      <td>0.999830</td>\n",
       "      <td>0.999640</td>\n",
       "    </tr>\n",
       "    <tr>\n",
       "      <th>3</th>\n",
       "      <td>0.999776</td>\n",
       "      <td>0.999495</td>\n",
       "    </tr>\n",
       "    <tr>\n",
       "      <th>4</th>\n",
       "      <td>0.999847</td>\n",
       "      <td>0.999760</td>\n",
       "    </tr>\n",
       "  </tbody>\n",
       "</table>\n",
       "</div>"
      ],
      "text/plain": [
       "    x_coord   y_coord\n",
       "0  0.999911  0.998993\n",
       "1  0.999661  0.999278\n",
       "2  0.999830  0.999640\n",
       "3  0.999776  0.999495\n",
       "4  0.999847  0.999760"
      ]
     },
     "execution_count": 76,
     "metadata": {},
     "output_type": "execute_result"
    }
   ],
   "source": [
    "df = pd.DataFrame(scaled)\n",
    "df.columns=df1.columns\n",
    "df.head()"
   ]
  },
  {
   "cell_type": "code",
   "execution_count": 77,
   "id": "a79b00a7",
   "metadata": {},
   "outputs": [
    {
     "name": "stderr",
     "output_type": "stream",
     "text": [
      "C:\\Users\\osh27\\anaconda3\\lib\\site-packages\\sklearn\\cluster\\_kmeans.py:1036: UserWarning: KMeans is known to have a memory leak on Windows with MKL, when there are less chunks than available threads. You can avoid it by setting the environment variable OMP_NUM_THREADS=1.\n",
      "  warnings.warn(\n"
     ]
    },
    {
     "data": {
      "image/png": "[encoded data removed]",
      "text/plain": [
       "<Figure size 720x720 with 1 Axes>"
      ]
     },
     "metadata": {
      "needs_background": "light"
     },
     "output_type": "display_data"
    }
   ],
   "source": [
    "wcss = []\n",
    "for i in range(1,11):\n",
    "    model = KMeans(n_clusters = i, init = \"k-means++\")\n",
    "    model.fit(df)\n",
    "    wcss.append(model.inertia_)\n",
    "plt.figure(figsize=(10,10))\n",
    "plt.plot(range(1,11), wcss, marker='o')\n",
    "plt.xlabel('Number of clusters')\n",
    "plt.ylabel('WCSS')\n",
    "plt.show()"
   ]
  },
  {
   "cell_type": "code",
   "execution_count": 78,
   "id": "cfb9274c",
   "metadata": {},
   "outputs": [
    {
     "data": {
      "image/png": "[encoded data removed]",
      "text/plain": [
       "<Figure size 504x504 with 1 Axes>"
      ]
     },
     "metadata": {
      "needs_background": "light"
     },
     "output_type": "display_data"
    }
   ],
   "source": [
    "centers = np.array(model.cluster_centers_)\n",
    "model = KMeans(n_clusters = 5, init = \"k-means++\")\n",
    "label = model.fit_predict(data)\n",
    "plt.figure(figsize=(7,7))\n",
    "uniq = np.unique(label)\n",
    "for i in uniq:\n",
    "    plt.scatter(data[label == i , 0] , data[label == i , 1] , label = i)\n",
    "plt.scatter(centers[:,0], centers[:,1], marker=\"x\", color='k')\n",
    "#This is done to find the centroid for each clusters.\n",
    "plt.legend()\n",
    "plt.show()"
   ]
  },
  {
   "cell_type": "code",
   "execution_count": 79,
   "id": "eb76cd2a",
   "metadata": {},
   "outputs": [
    {
     "data": {
      "text/plain": [
       "22.859510633690498"
      ]
     },
     "execution_count": 79,
     "metadata": {},
     "output_type": "execute_result"
    }
   ],
   "source": [
    "model.inertia_"
   ]
  },
  {
   "cell_type": "markdown",
   "id": "93395790",
   "metadata": {},
   "source": [
    "## MinMaxScaler"
   ]
  },
  {
   "cell_type": "code",
   "execution_count": 3,
   "id": "f084f580",
   "metadata": {},
   "outputs": [],
   "source": [
    "# 정규화\n",
    "from sklearn.preprocessing import MinMaxScaler\n",
    "scaler = MinMaxScaler()\n",
    "scaled = scaler.fit_transform(df1)"
   ]
  },
  {
   "cell_type": "code",
   "execution_count": 4,
   "id": "8dc23bc0",
   "metadata": {},
   "outputs": [
    {
     "data": {
      "text/html": [
       "<div>\n",
       "<style scoped>\n",
       "    .dataframe tbody tr th:only-of-type {\n",
       "        vertical-align: middle;\n",
       "    }\n",
       "\n",
       "    .dataframe tbody tr th {\n",
       "        vertical-align: top;\n",
       "    }\n",
       "\n",
       "    .dataframe thead th {\n",
       "        text-align: right;\n",
       "    }\n",
       "</style>\n",
       "<table border=\"1\" class=\"dataframe\">\n",
       "  <thead>\n",
       "    <tr style=\"text-align: right;\">\n",
       "      <th></th>\n",
       "      <th>x_coord</th>\n",
       "      <th>y_coord</th>\n",
       "    </tr>\n",
       "  </thead>\n",
       "  <tbody>\n",
       "    <tr>\n",
       "      <th>0</th>\n",
       "      <td>0.783101</td>\n",
       "      <td>0.087242</td>\n",
       "    </tr>\n",
       "    <tr>\n",
       "      <th>1</th>\n",
       "      <td>0.173393</td>\n",
       "      <td>0.345136</td>\n",
       "    </tr>\n",
       "    <tr>\n",
       "      <th>2</th>\n",
       "      <td>0.584757</td>\n",
       "      <td>0.673163</td>\n",
       "    </tr>\n",
       "    <tr>\n",
       "      <th>3</th>\n",
       "      <td>0.454968</td>\n",
       "      <td>0.542131</td>\n",
       "    </tr>\n",
       "    <tr>\n",
       "      <th>4</th>\n",
       "      <td>0.627716</td>\n",
       "      <td>0.782042</td>\n",
       "    </tr>\n",
       "  </tbody>\n",
       "</table>\n",
       "</div>"
      ],
      "text/plain": [
       "    x_coord   y_coord\n",
       "0  0.783101  0.087242\n",
       "1  0.173393  0.345136\n",
       "2  0.584757  0.673163\n",
       "3  0.454968  0.542131\n",
       "4  0.627716  0.782042"
      ]
     },
     "execution_count": 4,
     "metadata": {},
     "output_type": "execute_result"
    }
   ],
   "source": [
    "df = pd.DataFrame(scaled)\n",
    "df.columns=df1.columns\n",
    "df.head()"
   ]
  },
  {
   "cell_type": "code",
   "execution_count": 5,
   "id": "37a12efc",
   "metadata": {},
   "outputs": [
    {
     "name": "stdout",
     "output_type": "stream",
     "text": [
      "k:  2 inertia: 10.56554781554342\n",
      "k:  3 inertia: 4.655291222796844\n",
      "k:  4 inertia: 3.4333887644858185\n",
      "k:  5 inertia: 2.617589549466619\n",
      "k:  6 inertia: 2.0170878186135806\n",
      "k:  7 inertia: 1.7794363908836075\n",
      "k:  8 inertia: 1.574342576167356\n",
      "k:  9 inertia: 1.373135275039131\n",
      "k:  10 inertia: 1.1904880512570823\n",
      "k:  11 inertia: 1.0197899352756343\n",
      "k:  12 inertia: 0.8690397666221361\n",
      "k:  13 inertia: 0.7566497447995548\n",
      "k:  14 inertia: 0.702935192124613\n"
     ]
    }
   ],
   "source": [
    "# 군집 개수 결정\n",
    "# Elbow method\n",
    "inertia_arr=[]\n",
    "k_range = range(2,15)\n",
    "for k in k_range:\n",
    "    Kmeans=KMeans(n_clusters=k,random_state=200)\n",
    "    Kmeans.fit(df)\n",
    "    inertia = Kmeans.inertia_\n",
    "    print('k: ',k,'inertia:',inertia)\n",
    "    inertia_arr.append(inertia)\n",
    "inertia_arr=np.array(inertia_arr)"
   ]
  },
  {
   "cell_type": "code",
   "execution_count": 6,
   "id": "8635b212",
   "metadata": {},
   "outputs": [
    {
     "data": {
      "image/png": "[encoded data removed]",
      "text/plain": [
       "<Figure size 432x288 with 1 Axes>"
      ]
     },
     "metadata": {
      "needs_background": "light"
     },
     "output_type": "display_data"
    }
   ],
   "source": [
    "plt.plot(k_range,inertia_arr)\n",
    "plt.title('Elbow Method(inertia)')\n",
    "plt.xlabel('Number of clusters')\n",
    "plt.ylabel('Inertia')\n",
    "plt.show()"
   ]
  },
  {
   "cell_type": "code",
   "execution_count": 7,
   "id": "a39c7d98",
   "metadata": {},
   "outputs": [
    {
     "name": "stderr",
     "output_type": "stream",
     "text": [
      "C:\\Users\\osh27\\anaconda3\\lib\\site-packages\\sklearn\\cluster\\_kmeans.py:1036: UserWarning: KMeans is known to have a memory leak on Windows with MKL, when there are less chunks than available threads. You can avoid it by setting the environment variable OMP_NUM_THREADS=1.\n",
      "  warnings.warn(\n"
     ]
    },
    {
     "data": {
      "image/png": "[encoded data removed]",
      "text/plain": [
       "<Figure size 720x720 with 1 Axes>"
      ]
     },
     "metadata": {
      "needs_background": "light"
     },
     "output_type": "display_data"
    }
   ],
   "source": [
    "# Elbow method2\n",
    "wcss = []\n",
    "for i in range(1,11):\n",
    "    model = KMeans(n_clusters = i, init = \"k-means++\")\n",
    "    model.fit(df)\n",
    "    wcss.append(model.inertia_)\n",
    "plt.figure(figsize=(10,10))\n",
    "plt.plot(range(1,11), wcss, marker='o')\n",
    "plt.xlabel('Number of clusters')\n",
    "plt.ylabel('WCSS')\n",
    "plt.show()"
   ]
  },
  {
   "cell_type": "code",
   "execution_count": 8,
   "id": "2fb78505",
   "metadata": {
    "scrolled": true
   },
   "outputs": [
    {
     "name": "stdout",
     "output_type": "stream",
     "text": [
      "k: 2 score:  0.40500388404343995\n",
      "k: 3 score:  0.5278428257715606\n",
      "k: 4 score:  0.4801896750083676\n",
      "k: 5 score:  0.48163820595765694\n",
      "k: 6 score:  0.48878115333816674\n",
      "k: 7 score:  0.4240222765446052\n",
      "k: 8 score:  0.41940421449916937\n",
      "k: 9 score:  0.41917713166699616\n",
      "k: 10 score:  0.4285235958338148\n",
      "k: 11 score:  0.4554918420790834\n",
      "k: 12 score:  0.4576170033908531\n",
      "k: 13 score:  0.460814601400306\n",
      "k: 14 score:  0.46580637858254376\n",
      "best_n: 3 best score: 0.5278428257715606\n"
     ]
    }
   ],
   "source": [
    "# Silhouette score\n",
    "from sklearn.metrics import silhouette_score\n",
    "k_range=range(2,15)\n",
    "best_n=-1\n",
    "best_silhouette_score = -1\n",
    "silhouette_score_arr = []\n",
    "for k in k_range:\n",
    "    kmeans=KMeans(n_clusters=k, random_state=200)\n",
    "    kmeans.fit(df)\n",
    "    clusters=kmeans.predict(df)\n",
    "    score=silhouette_score(df,clusters)\n",
    "    print('k:',k,'score: ',score)\n",
    "    silhouette_score_arr.append(score)\n",
    "\n",
    "    if score> best_silhouette_score:\n",
    "        best_n=k\n",
    "        best_silhouette_score=score\n",
    "        \n",
    "print('best_n:',best_n,'best score:',best_silhouette_score)\n",
    "silhouette_score_arr=np.array(silhouette_score_arr)"
   ]
  },
  {
   "cell_type": "code",
   "execution_count": 9,
   "id": "30ef0d43",
   "metadata": {},
   "outputs": [
    {
     "data": {
      "image/png": "[encoded data removed]",
      "text/plain": [
       "<Figure size 432x288 with 1 Axes>"
      ]
     },
     "metadata": {
      "needs_background": "light"
     },
     "output_type": "display_data"
    }
   ],
   "source": [
    "plt.plot(k_range,silhouette_score_arr)\n",
    "plt.title('silhouette_score')\n",
    "plt.xlabel('Number of clusters')\n",
    "plt.ylabel('silhouette_score')\n",
    "plt.show()\n"
   ]
  },
  {
   "cell_type": "code",
   "execution_count": 10,
   "id": "d1df3a62",
   "metadata": {},
   "outputs": [
    {
     "data": {
      "text/plain": [
       "0.5278428257715606"
      ]
     },
     "execution_count": 10,
     "metadata": {},
     "output_type": "execute_result"
    }
   ],
   "source": [
    "best_silhouette_score"
   ]
  },
  {
   "cell_type": "code",
   "execution_count": 11,
   "id": "f9156b8d",
   "metadata": {},
   "outputs": [],
   "source": [
    "# 차원축소\n",
    "pca = PCA(2)\n",
    "data = pca.fit_transform(df)"
   ]
  },
  {
   "cell_type": "code",
   "execution_count": 12,
   "id": "96557672",
   "metadata": {},
   "outputs": [
    {
     "data": {
      "image/png": "[encoded data removed]",
      "text/plain": [
       "<Figure size 720x720 with 1 Axes>"
      ]
     },
     "metadata": {
      "needs_background": "light"
     },
     "output_type": "display_data"
    }
   ],
   "source": [
    "# 군집화 결과\n",
    "centers = np.array(model.cluster_centers_)\n",
    "model = KMeans(n_clusters = 3, init = \"k-means++\")\n",
    "label = model.fit_predict(data)\n",
    "plt.figure(figsize=(10,10))\n",
    "uniq = np.unique(label)\n",
    "for i in uniq:\n",
    "    plt.scatter(data[label == i , 0] , data[label == i , 1] , label = i)\n",
    "plt.scatter(centers[:,0], centers[:,1], marker=\"x\", color='k')\n",
    "#This is done to find the centroid for each clusters.\n",
    "plt.legend()\n",
    "plt.show()"
   ]
  },
  {
   "cell_type": "code",
   "execution_count": 13,
   "id": "49b7f14c",
   "metadata": {},
   "outputs": [
    {
     "data": {
      "text/plain": [
       "4.655291222796844"
      ]
     },
     "execution_count": 13,
     "metadata": {},
     "output_type": "execute_result"
    }
   ],
   "source": [
    "model.inertia_"
   ]
  },
  {
   "cell_type": "code",
   "execution_count": 14,
   "id": "d7287f01",
   "metadata": {},
   "outputs": [],
   "source": [
    "cluster = pd.Series(label)"
   ]
  },
  {
   "cell_type": "code",
   "execution_count": 15,
   "id": "5110fd67",
   "metadata": {},
   "outputs": [
    {
     "data": {
      "text/plain": [
       "0      0\n",
       "1      2\n",
       "2      1\n",
       "3      1\n",
       "4      1\n",
       "      ..\n",
       "168    0\n",
       "169    1\n",
       "170    0\n",
       "171    2\n",
       "172    0\n",
       "Length: 173, dtype: int32"
      ]
     },
     "execution_count": 15,
     "metadata": {},
     "output_type": "execute_result"
    }
   ],
   "source": [
    "cluster"
   ]
  },
  {
   "cell_type": "code",
   "execution_count": 16,
   "id": "521f447c",
   "metadata": {},
   "outputs": [
    {
     "data": {
      "text/plain": [
       "0    67\n",
       "1    56\n",
       "2    50\n",
       "Name: cluster, dtype: int64"
      ]
     },
     "execution_count": 16,
     "metadata": {},
     "output_type": "execute_result"
    }
   ],
   "source": [
    "df1['cluster'] = cluster\n",
    "df1['cluster'].value_counts()"
   ]
  },
  {
   "cell_type": "code",
   "execution_count": 17,
   "id": "57f7f4aa",
   "metadata": {},
   "outputs": [
    {
     "data": {
      "text/html": [
       "<div>\n",
       "<style scoped>\n",
       "    .dataframe tbody tr th:only-of-type {\n",
       "        vertical-align: middle;\n",
       "    }\n",
       "\n",
       "    .dataframe tbody tr th {\n",
       "        vertical-align: top;\n",
       "    }\n",
       "\n",
       "    .dataframe thead th {\n",
       "        text-align: right;\n",
       "    }\n",
       "</style>\n",
       "<table border=\"1\" class=\"dataframe\">\n",
       "  <thead>\n",
       "    <tr style=\"text-align: right;\">\n",
       "      <th></th>\n",
       "      <th>x_coord</th>\n",
       "      <th>y_coord</th>\n",
       "    </tr>\n",
       "  </thead>\n",
       "  <tbody>\n",
       "  </tbody>\n",
       "</table>\n",
       "</div>"
      ],
      "text/plain": [
       "Empty DataFrame\n",
       "Columns: [x_coord, y_coord]\n",
       "Index: []"
      ]
     },
     "execution_count": 17,
     "metadata": {},
     "output_type": "execute_result"
    }
   ],
   "source": [
    "df2 = pd.DataFrame(columns = df1.columns[:-1])\n",
    "df2"
   ]
  },
  {
   "cell_type": "code",
   "execution_count": 18,
   "id": "d8c54841",
   "metadata": {},
   "outputs": [],
   "source": [
    "c1=[]\n",
    "c2=[]\n",
    "\n",
    "\n",
    "\n",
    "\n",
    "\n",
    "for i in range(4):    \n",
    "    c1.append(df1[df1['cluster']==i]['x_coord'].mean())\n",
    "    c2.append(df1[df1['cluster']==i]['y_coord'].mean())\n",
    "    \n",
    "   \n",
    "\n",
    "\n",
    "df2['x_coord']=c1\n",
    "df2['y_coord']=c2\n",
    "\n"
   ]
  },
  {
   "cell_type": "code",
   "execution_count": 19,
   "id": "6c0d3fc4",
   "metadata": {},
   "outputs": [
    {
     "data": {
      "text/html": [
       "<div>\n",
       "<style scoped>\n",
       "    .dataframe tbody tr th:only-of-type {\n",
       "        vertical-align: middle;\n",
       "    }\n",
       "\n",
       "    .dataframe tbody tr th {\n",
       "        vertical-align: top;\n",
       "    }\n",
       "\n",
       "    .dataframe thead th {\n",
       "        text-align: right;\n",
       "    }\n",
       "</style>\n",
       "<table border=\"1\" class=\"dataframe\">\n",
       "  <thead>\n",
       "    <tr style=\"text-align: right;\">\n",
       "      <th></th>\n",
       "      <th>x_coord</th>\n",
       "      <th>y_coord</th>\n",
       "    </tr>\n",
       "  </thead>\n",
       "  <tbody>\n",
       "    <tr>\n",
       "      <th>0</th>\n",
       "      <td>127.062485</td>\n",
       "      <td>37.572282</td>\n",
       "    </tr>\n",
       "    <tr>\n",
       "      <th>1</th>\n",
       "      <td>127.055166</td>\n",
       "      <td>37.590922</td>\n",
       "    </tr>\n",
       "    <tr>\n",
       "      <th>2</th>\n",
       "      <td>127.036840</td>\n",
       "      <td>37.577500</td>\n",
       "    </tr>\n",
       "    <tr>\n",
       "      <th>3</th>\n",
       "      <td>NaN</td>\n",
       "      <td>NaN</td>\n",
       "    </tr>\n",
       "  </tbody>\n",
       "</table>\n",
       "</div>"
      ],
      "text/plain": [
       "      x_coord    y_coord\n",
       "0  127.062485  37.572282\n",
       "1  127.055166  37.590922\n",
       "2  127.036840  37.577500\n",
       "3         NaN        NaN"
      ]
     },
     "execution_count": 19,
     "metadata": {},
     "output_type": "execute_result"
    }
   ],
   "source": [
    "df2"
   ]
  },
  {
   "cell_type": "code",
   "execution_count": 20,
   "id": "75b26630",
   "metadata": {},
   "outputs": [
    {
     "data": {
      "text/html": [
       "<div>\n",
       "<style scoped>\n",
       "    .dataframe tbody tr th:only-of-type {\n",
       "        vertical-align: middle;\n",
       "    }\n",
       "\n",
       "    .dataframe tbody tr th {\n",
       "        vertical-align: top;\n",
       "    }\n",
       "\n",
       "    .dataframe thead th {\n",
       "        text-align: right;\n",
       "    }\n",
       "</style>\n",
       "<table border=\"1\" class=\"dataframe\">\n",
       "  <thead>\n",
       "    <tr style=\"text-align: right;\">\n",
       "      <th></th>\n",
       "      <th>x_coord</th>\n",
       "      <th>y_coord</th>\n",
       "      <th>cluster</th>\n",
       "      <th>gid</th>\n",
       "    </tr>\n",
       "  </thead>\n",
       "  <tbody>\n",
       "    <tr>\n",
       "      <th>0</th>\n",
       "      <td>127.064613</td>\n",
       "      <td>37.566111</td>\n",
       "      <td>0</td>\n",
       "      <td>다사615519</td>\n",
       "    </tr>\n",
       "    <tr>\n",
       "      <th>1</th>\n",
       "      <td>127.032841</td>\n",
       "      <td>37.576806</td>\n",
       "      <td>2</td>\n",
       "      <td>다사587531</td>\n",
       "    </tr>\n",
       "    <tr>\n",
       "      <th>2</th>\n",
       "      <td>127.054277</td>\n",
       "      <td>37.590409</td>\n",
       "      <td>1</td>\n",
       "      <td>다사606546</td>\n",
       "    </tr>\n",
       "    <tr>\n",
       "      <th>3</th>\n",
       "      <td>127.047514</td>\n",
       "      <td>37.584975</td>\n",
       "      <td>1</td>\n",
       "      <td>다사600540</td>\n",
       "    </tr>\n",
       "    <tr>\n",
       "      <th>4</th>\n",
       "      <td>127.056516</td>\n",
       "      <td>37.594924</td>\n",
       "      <td>1</td>\n",
       "      <td>다사608551</td>\n",
       "    </tr>\n",
       "  </tbody>\n",
       "</table>\n",
       "</div>"
      ],
      "text/plain": [
       "      x_coord    y_coord  cluster       gid\n",
       "0  127.064613  37.566111        0  다사615519\n",
       "1  127.032841  37.576806        2  다사587531\n",
       "2  127.054277  37.590409        1  다사606546\n",
       "3  127.047514  37.584975        1  다사600540\n",
       "4  127.056516  37.594924        1  다사608551"
      ]
     },
     "execution_count": 20,
     "metadata": {},
     "output_type": "execute_result"
    }
   ],
   "source": [
    "data = pd.read_excel('C:\\\\Users\\\\osh27\\\\Desktop\\\\동대문구.xlsx')\n",
    "\n",
    "df1['gid'] = data['gid']\n",
    "df1.head()"
   ]
  },
  {
   "cell_type": "code",
   "execution_count": 21,
   "id": "a5e80ca0",
   "metadata": {},
   "outputs": [],
   "source": [
    "# 클러스터에 해당하는 그리드 출력\n",
    "gid0 = []\n",
    "gid1 = []\n",
    "gid2 = []\n",
    "\n",
    "\n",
    "\n",
    "\n",
    "\n",
    "\n",
    "data = pd.read_excel('C:\\\\Users\\\\osh27\\\\Desktop\\\\동대문구.xlsx')\n",
    "for i in range(len(df1)):\n",
    "    if df1.iloc[i]['cluster']==0:\n",
    "        gid0.append(df1.iloc[i]['gid'])\n",
    "    elif df1.iloc[i]['cluster']==1:\n",
    "        gid1.append(df1.iloc[i]['gid'])\n",
    "    else:\n",
    "        gid2.append(df1.iloc[i]['gid'])"
   ]
  },
  {
   "cell_type": "code",
   "execution_count": 22,
   "id": "de314d9b",
   "metadata": {},
   "outputs": [
    {
     "data": {
      "text/plain": [
       "['다사615519',\n",
       " '다사605519',\n",
       " '다사606531',\n",
       " '다사611519',\n",
       " '다사606526',\n",
       " '다사612521',\n",
       " '다사621529',\n",
       " '다사619526',\n",
       " '다사619518',\n",
       " '다사605526',\n",
       " '다사612515',\n",
       " '다사618527',\n",
       " '다사618535',\n",
       " '다사618535',\n",
       " '다사610532',\n",
       " '다사613516',\n",
       " '다사625523',\n",
       " '다사605520',\n",
       " '다사605520',\n",
       " '다사607532',\n",
       " '다사610520',\n",
       " '다사610516',\n",
       " '다사613515',\n",
       " '다사617533',\n",
       " '다사615532',\n",
       " '다사605527',\n",
       " '다사607531',\n",
       " '다사606534',\n",
       " '다사621533',\n",
       " '다사608533',\n",
       " '다사617523',\n",
       " '다사619525',\n",
       " '다사616522',\n",
       " '다사606527',\n",
       " '다사606523',\n",
       " '다사617525',\n",
       " '다사615527',\n",
       " '다사619529',\n",
       " '다사620525',\n",
       " '다사604534',\n",
       " '다사622530',\n",
       " '다사618518',\n",
       " '다사616519',\n",
       " '다사616533',\n",
       " '다사607528',\n",
       " '다사621526',\n",
       " '다사606532',\n",
       " '다사618526',\n",
       " '다사618521',\n",
       " '다사613522',\n",
       " '다사604533',\n",
       " '다사606521',\n",
       " '다사607519',\n",
       " '다사614517',\n",
       " '다사620529',\n",
       " '다사621530',\n",
       " '다사619522',\n",
       " '다사606522',\n",
       " '다사621525',\n",
       " '다사608532',\n",
       " '다사617526',\n",
       " '다사617526',\n",
       " '다사620536',\n",
       " '다사609531',\n",
       " '다사611520',\n",
       " '다사619532',\n",
       " '다사606533']"
      ]
     },
     "execution_count": 22,
     "metadata": {},
     "output_type": "execute_result"
    }
   ],
   "source": [
    "gid0"
   ]
  },
  {
   "cell_type": "code",
   "execution_count": 23,
   "id": "57543f6c",
   "metadata": {},
   "outputs": [
    {
     "data": {
      "text/plain": [
       "['다사606546',\n",
       " '다사600540',\n",
       " '다사608551',\n",
       " '다사611551',\n",
       " '다사607556',\n",
       " '다사604548',\n",
       " '다사602548',\n",
       " '다사607546',\n",
       " '다사609545',\n",
       " '다사604546',\n",
       " '다사604538',\n",
       " '다사603546',\n",
       " '다사602549',\n",
       " '다사610551',\n",
       " '다사609542',\n",
       " '다사608542',\n",
       " '다사608545',\n",
       " '다사612547',\n",
       " '다사603548',\n",
       " '다사611552',\n",
       " '다사603537',\n",
       " '다사606545',\n",
       " '다사606548',\n",
       " '다사603539',\n",
       " '다사606549',\n",
       " '다사602538',\n",
       " '다사611546',\n",
       " '다사610544',\n",
       " '다사610544',\n",
       " '다사608544',\n",
       " '다사602539',\n",
       " '다사593547',\n",
       " '다사611545',\n",
       " '다사610552',\n",
       " '다사609552',\n",
       " '다사607555',\n",
       " '다사605542',\n",
       " '다사602547',\n",
       " '다사607545',\n",
       " '다사609550',\n",
       " '다사612544',\n",
       " '다사614561',\n",
       " '다사603538',\n",
       " '다사611544',\n",
       " '다사610546',\n",
       " '다사605546',\n",
       " '다사611550',\n",
       " '다사601547',\n",
       " '다사615547',\n",
       " '다사604547',\n",
       " '다사608550',\n",
       " '다사603547',\n",
       " '다사606555',\n",
       " '다사606547',\n",
       " '다사607550',\n",
       " '다사616544']"
      ]
     },
     "execution_count": 23,
     "metadata": {},
     "output_type": "execute_result"
    }
   ],
   "source": [
    "gid1"
   ]
  },
  {
   "cell_type": "code",
   "execution_count": 24,
   "id": "6bf7e29f",
   "metadata": {
    "scrolled": true
   },
   "outputs": [
    {
     "data": {
      "text/plain": [
       "['다사587531',\n",
       " '다사585533',\n",
       " '다사592531',\n",
       " '다사583529',\n",
       " '다사590543',\n",
       " '다사590536',\n",
       " '다사594541',\n",
       " '다사583526',\n",
       " '다사594537',\n",
       " '다사591527',\n",
       " '다사595536',\n",
       " '다사592542',\n",
       " '다사595538',\n",
       " '다사583527',\n",
       " '다사589528',\n",
       " '다사579529',\n",
       " '다사588534',\n",
       " '다사590534',\n",
       " '다사587532',\n",
       " '다사600532',\n",
       " '다사583533',\n",
       " '다사597530',\n",
       " '다사590530',\n",
       " '다사582528',\n",
       " '다사599529',\n",
       " '다사597536',\n",
       " '다사600527',\n",
       " '다사598539',\n",
       " '다사594530',\n",
       " '다사595537',\n",
       " '다사597528',\n",
       " '다사597527',\n",
       " '다사580532',\n",
       " '다사584527',\n",
       " '다사589530',\n",
       " '다사581532',\n",
       " '다사584524',\n",
       " '다사589537',\n",
       " '다사589538',\n",
       " '다사591530',\n",
       " '다사582526',\n",
       " '다사600530',\n",
       " '다사596536',\n",
       " '다사598530',\n",
       " '다사601527',\n",
       " '다사588533',\n",
       " '다사583528',\n",
       " '다사583524',\n",
       " '다사594538',\n",
       " '다사599526']"
      ]
     },
     "execution_count": 24,
     "metadata": {},
     "output_type": "execute_result"
    }
   ],
   "source": [
    "gid2"
   ]
  }
 ],
 "metadata": {
  "kernelspec": {
   "display_name": "Python 3 (ipykernel)",
   "language": "python",
   "name": "python3"
  },
  "language_info": {
   "codemirror_mode": {
    "name": "ipython",
    "version": 3
   },
   "file_extension": ".py",
   "mimetype": "text/x-python",
   "name": "python",
   "nbconvert_exporter": "python",
   "pygments_lexer": "ipython3",
   "version": "3.9.12"
  }
 },
 "nbformat": 4,
 "nbformat_minor": 5
}
